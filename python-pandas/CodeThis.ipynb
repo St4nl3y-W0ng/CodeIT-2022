{
 "cells": [
  {
   "cell_type": "code",
   "execution_count": 259,
   "id": "6d31583d",
   "metadata": {},
   "outputs": [],
   "source": [
    "import numpy as np\n",
    "import pandas as pd\n",
    "import timeit"
   ]
  },
  {
   "cell_type": "code",
   "execution_count": 296,
   "id": "f7cf2da5",
   "metadata": {},
   "outputs": [
    {
     "data": {
      "text/plain": [
       "['00:06,A,1,5.6',\n",
       " '00:05,A,1,5.6',\n",
       " '00:05,B,1,5.6',\n",
       " '00:00,B,1,5.6',\n",
       " '00:00,A,1,5.6',\n",
       " '00:02,A,1,5.6',\n",
       " '00:02,B,1,5.6',\n",
       " '00:03,A,1,5.6',\n",
       " '00:03,C,1,5.6',\n",
       " '00:04,A,1,5.6']"
      ]
     },
     "execution_count": 296,
     "metadata": {},
     "output_type": "execute_result"
    }
   ],
   "source": []
  },
  {
   "cell_type": "code",
   "execution_count": 297,
   "id": "f891b199",
   "metadata": {},
   "outputs": [
    {
     "data": {
      "text/plain": [
       "['00:00,A,1,5.6',\n",
       " '00:00,B,1,5.6',\n",
       " '00:02,A,1,5.6',\n",
       " '00:02,B,1,5.6',\n",
       " '00:03,A,1,5.6',\n",
       " '00:03,C,1,5.6',\n",
       " '00:04,A,1,5.6',\n",
       " '00:05,A,1,5.6',\n",
       " '00:05,B,1,5.6',\n",
       " '00:06,A,1,5.6']"
      ]
     },
     "execution_count": 297,
     "metadata": {},
     "output_type": "execute_result"
    }
   ],
   "source": [
    "# test_input.sort()\n",
    "sorted_input=sorted(test_input)\n",
    "sorted_input"
   ]
  },
  {
   "cell_type": "code",
   "execution_count": 298,
   "id": "447585ee",
   "metadata": {},
   "outputs": [
    {
     "data": {
      "text/html": [
       "<div>\n",
       "<style scoped>\n",
       "    .dataframe tbody tr th:only-of-type {\n",
       "        vertical-align: middle;\n",
       "    }\n",
       "\n",
       "    .dataframe tbody tr th {\n",
       "        vertical-align: top;\n",
       "    }\n",
       "\n",
       "    .dataframe thead th {\n",
       "        text-align: right;\n",
       "    }\n",
       "</style>\n",
       "<table border=\"1\" class=\"dataframe\">\n",
       "  <thead>\n",
       "    <tr style=\"text-align: right;\">\n",
       "      <th></th>\n",
       "      <th>timestamp</th>\n",
       "      <th>ticker</th>\n",
       "      <th>cumulative_quantity</th>\n",
       "    </tr>\n",
       "  </thead>\n",
       "  <tbody>\n",
       "    <tr>\n",
       "      <th>0</th>\n",
       "      <td>00:00</td>\n",
       "      <td>A</td>\n",
       "      <td>1</td>\n",
       "    </tr>\n",
       "    <tr>\n",
       "      <th>1</th>\n",
       "      <td>00:00</td>\n",
       "      <td>B</td>\n",
       "      <td>1</td>\n",
       "    </tr>\n",
       "    <tr>\n",
       "      <th>2</th>\n",
       "      <td>00:02</td>\n",
       "      <td>A</td>\n",
       "      <td>2</td>\n",
       "    </tr>\n",
       "    <tr>\n",
       "      <th>3</th>\n",
       "      <td>00:02</td>\n",
       "      <td>B</td>\n",
       "      <td>2</td>\n",
       "    </tr>\n",
       "    <tr>\n",
       "      <th>4</th>\n",
       "      <td>00:03</td>\n",
       "      <td>A</td>\n",
       "      <td>3</td>\n",
       "    </tr>\n",
       "    <tr>\n",
       "      <th>5</th>\n",
       "      <td>00:04</td>\n",
       "      <td>A</td>\n",
       "      <td>4</td>\n",
       "    </tr>\n",
       "    <tr>\n",
       "      <th>6</th>\n",
       "      <td>00:05</td>\n",
       "      <td>A</td>\n",
       "      <td>5</td>\n",
       "    </tr>\n",
       "    <tr>\n",
       "      <th>7</th>\n",
       "      <td>00:05</td>\n",
       "      <td>B</td>\n",
       "      <td>3</td>\n",
       "    </tr>\n",
       "    <tr>\n",
       "      <th>8</th>\n",
       "      <td>00:06</td>\n",
       "      <td>A</td>\n",
       "      <td>6</td>\n",
       "    </tr>\n",
       "  </tbody>\n",
       "</table>\n",
       "</div>"
      ],
      "text/plain": [
       "  timestamp ticker  cumulative_quantity\n",
       "0     00:00      A                    1\n",
       "1     00:00      B                    1\n",
       "2     00:02      A                    2\n",
       "3     00:02      B                    2\n",
       "4     00:03      A                    3\n",
       "5     00:04      A                    4\n",
       "6     00:05      A                    5\n",
       "7     00:05      B                    3\n",
       "8     00:06      A                    6"
      ]
     },
     "execution_count": 298,
     "metadata": {},
     "output_type": "execute_result"
    }
   ],
   "source": [
    "df2=df.drop(['cumulative_notional'],axis=1)\n",
    "df2['cumulative_quantity'] = df.groupby(['ticker'])['cumulative_quantity'].cumsum()\n",
    "df2"
   ]
  },
  {
   "cell_type": "code",
   "execution_count": 299,
   "id": "d51d6933",
   "metadata": {},
   "outputs": [
    {
     "data": {
      "text/plain": [
       "5.6"
      ]
     },
     "execution_count": 299,
     "metadata": {},
     "output_type": "execute_result"
    }
   ],
   "source": [
    "cumulative_quantity=0\n",
    "cumulative_notional=0.0\n",
    "# adding quantity\n",
    "cumulative_quantity+=(int)(sorted_input[0].split(\",\")[2])\n",
    "# adding notional value\n",
    "cumulative_notional+=(float)(sorted_input[0].split(\",\")[3])\n",
    "cumulative_quantity\n",
    "cumulative_notional"
   ]
  },
  {
   "cell_type": "code",
   "execution_count": 318,
   "id": "c2d4c05e",
   "metadata": {},
   "outputs": [
    {
     "data": {
      "text/html": [
       "<div>\n",
       "<style scoped>\n",
       "    .dataframe tbody tr th:only-of-type {\n",
       "        vertical-align: middle;\n",
       "    }\n",
       "\n",
       "    .dataframe tbody tr th {\n",
       "        vertical-align: top;\n",
       "    }\n",
       "\n",
       "    .dataframe thead th {\n",
       "        text-align: right;\n",
       "    }\n",
       "</style>\n",
       "<table border=\"1\" class=\"dataframe\">\n",
       "  <thead>\n",
       "    <tr style=\"text-align: right;\">\n",
       "      <th></th>\n",
       "      <th>timestamp</th>\n",
       "      <th>ticker</th>\n",
       "      <th>cumulative_quantity</th>\n",
       "      <th>cumulative_notional</th>\n",
       "    </tr>\n",
       "  </thead>\n",
       "  <tbody>\n",
       "    <tr>\n",
       "      <th>0</th>\n",
       "      <td>00:00</td>\n",
       "      <td>A</td>\n",
       "      <td>1</td>\n",
       "      <td>5.6</td>\n",
       "    </tr>\n",
       "    <tr>\n",
       "      <th>1</th>\n",
       "      <td>00:00</td>\n",
       "      <td>B</td>\n",
       "      <td>1</td>\n",
       "      <td>5.6</td>\n",
       "    </tr>\n",
       "    <tr>\n",
       "      <th>2</th>\n",
       "      <td>00:02</td>\n",
       "      <td>A</td>\n",
       "      <td>1</td>\n",
       "      <td>5.6</td>\n",
       "    </tr>\n",
       "    <tr>\n",
       "      <th>3</th>\n",
       "      <td>00:02</td>\n",
       "      <td>B</td>\n",
       "      <td>1</td>\n",
       "      <td>5.6</td>\n",
       "    </tr>\n",
       "    <tr>\n",
       "      <th>4</th>\n",
       "      <td>00:03</td>\n",
       "      <td>A</td>\n",
       "      <td>1</td>\n",
       "      <td>5.6</td>\n",
       "    </tr>\n",
       "    <tr>\n",
       "      <th>5</th>\n",
       "      <td>00:03</td>\n",
       "      <td>C</td>\n",
       "      <td>1</td>\n",
       "      <td>5.6</td>\n",
       "    </tr>\n",
       "    <tr>\n",
       "      <th>6</th>\n",
       "      <td>00:04</td>\n",
       "      <td>A</td>\n",
       "      <td>1</td>\n",
       "      <td>5.6</td>\n",
       "    </tr>\n",
       "    <tr>\n",
       "      <th>7</th>\n",
       "      <td>00:05</td>\n",
       "      <td>A</td>\n",
       "      <td>1</td>\n",
       "      <td>5.6</td>\n",
       "    </tr>\n",
       "    <tr>\n",
       "      <th>8</th>\n",
       "      <td>00:05</td>\n",
       "      <td>B</td>\n",
       "      <td>1</td>\n",
       "      <td>5.6</td>\n",
       "    </tr>\n",
       "    <tr>\n",
       "      <th>9</th>\n",
       "      <td>00:06</td>\n",
       "      <td>A</td>\n",
       "      <td>1</td>\n",
       "      <td>5.6</td>\n",
       "    </tr>\n",
       "  </tbody>\n",
       "</table>\n",
       "</div>"
      ],
      "text/plain": [
       "  timestamp ticker  cumulative_quantity  cumulative_notional\n",
       "0     00:00      A                    1                  5.6\n",
       "1     00:00      B                    1                  5.6\n",
       "2     00:02      A                    1                  5.6\n",
       "3     00:02      B                    1                  5.6\n",
       "4     00:03      A                    1                  5.6\n",
       "5     00:03      C                    1                  5.6\n",
       "6     00:04      A                    1                  5.6\n",
       "7     00:05      A                    1                  5.6\n",
       "8     00:05      B                    1                  5.6\n",
       "9     00:06      A                    1                  5.6"
      ]
     },
     "execution_count": 318,
     "metadata": {},
     "output_type": "execute_result"
    }
   ],
   "source": [
    "df = pd.DataFrame(test_input, columns=None )\n",
    "df = df.drop_duplicates()\n",
    "df.sort_values(0, inplace=True)\n",
    "df.reset_index(inplace=True)\n",
    "df[0].str.strip()\n",
    "df[['timestamp', 'ticker', 'cumulative_quantity','cumulative_notional']]=df[0].str.split(',', expand=True)\n",
    "df.drop([0,'index'], inplace=True, axis=1)\n",
    "df.columns = df.columns.str.strip()\n",
    "df=df.astype({'cumulative_quantity': 'int64','cumulative_notional': 'float64'})\n",
    "df"
   ]
  },
  {
   "cell_type": "code",
   "execution_count": 319,
   "id": "42ed1573",
   "metadata": {},
   "outputs": [
    {
     "data": {
      "text/html": [
       "<div>\n",
       "<style scoped>\n",
       "    .dataframe tbody tr th:only-of-type {\n",
       "        vertical-align: middle;\n",
       "    }\n",
       "\n",
       "    .dataframe tbody tr th {\n",
       "        vertical-align: top;\n",
       "    }\n",
       "\n",
       "    .dataframe thead th {\n",
       "        text-align: right;\n",
       "    }\n",
       "</style>\n",
       "<table border=\"1\" class=\"dataframe\">\n",
       "  <thead>\n",
       "    <tr style=\"text-align: right;\">\n",
       "      <th></th>\n",
       "      <th>timestamp</th>\n",
       "      <th>ticker</th>\n",
       "      <th>cumulative_quantity</th>\n",
       "      <th>cumulative_notional</th>\n",
       "    </tr>\n",
       "  </thead>\n",
       "  <tbody>\n",
       "    <tr>\n",
       "      <th>0</th>\n",
       "      <td>00:00</td>\n",
       "      <td>A</td>\n",
       "      <td>1</td>\n",
       "      <td>5.6</td>\n",
       "    </tr>\n",
       "    <tr>\n",
       "      <th>1</th>\n",
       "      <td>00:00</td>\n",
       "      <td>B</td>\n",
       "      <td>1</td>\n",
       "      <td>5.6</td>\n",
       "    </tr>\n",
       "    <tr>\n",
       "      <th>2</th>\n",
       "      <td>00:02</td>\n",
       "      <td>A</td>\n",
       "      <td>2</td>\n",
       "      <td>11.2</td>\n",
       "    </tr>\n",
       "    <tr>\n",
       "      <th>3</th>\n",
       "      <td>00:02</td>\n",
       "      <td>B</td>\n",
       "      <td>2</td>\n",
       "      <td>11.2</td>\n",
       "    </tr>\n",
       "    <tr>\n",
       "      <th>4</th>\n",
       "      <td>00:03</td>\n",
       "      <td>A</td>\n",
       "      <td>3</td>\n",
       "      <td>16.8</td>\n",
       "    </tr>\n",
       "    <tr>\n",
       "      <th>5</th>\n",
       "      <td>00:03</td>\n",
       "      <td>C</td>\n",
       "      <td>1</td>\n",
       "      <td>5.6</td>\n",
       "    </tr>\n",
       "    <tr>\n",
       "      <th>6</th>\n",
       "      <td>00:04</td>\n",
       "      <td>A</td>\n",
       "      <td>4</td>\n",
       "      <td>22.4</td>\n",
       "    </tr>\n",
       "    <tr>\n",
       "      <th>7</th>\n",
       "      <td>00:05</td>\n",
       "      <td>A</td>\n",
       "      <td>5</td>\n",
       "      <td>28.0</td>\n",
       "    </tr>\n",
       "    <tr>\n",
       "      <th>8</th>\n",
       "      <td>00:05</td>\n",
       "      <td>B</td>\n",
       "      <td>3</td>\n",
       "      <td>16.8</td>\n",
       "    </tr>\n",
       "    <tr>\n",
       "      <th>9</th>\n",
       "      <td>00:06</td>\n",
       "      <td>A</td>\n",
       "      <td>6</td>\n",
       "      <td>33.6</td>\n",
       "    </tr>\n",
       "  </tbody>\n",
       "</table>\n",
       "</div>"
      ],
      "text/plain": [
       "  timestamp ticker  cumulative_quantity  cumulative_notional\n",
       "0     00:00      A                    1                  5.6\n",
       "1     00:00      B                    1                  5.6\n",
       "2     00:02      A                    2                 11.2\n",
       "3     00:02      B                    2                 11.2\n",
       "4     00:03      A                    3                 16.8\n",
       "5     00:03      C                    1                  5.6\n",
       "6     00:04      A                    4                 22.4\n",
       "7     00:05      A                    5                 28.0\n",
       "8     00:05      B                    3                 16.8\n",
       "9     00:06      A                    6                 33.6"
      ]
     },
     "execution_count": 319,
     "metadata": {},
     "output_type": "execute_result"
    }
   ],
   "source": [
    "df[['cumulative_quantity','cumulative_notional']] = df.groupby(['ticker']).cumsum()\n",
    "df"
   ]
  },
  {
   "cell_type": "code",
   "execution_count": 321,
   "id": "7415897d",
   "metadata": {},
   "outputs": [
    {
     "data": {
      "text/html": [
       "<div>\n",
       "<style scoped>\n",
       "    .dataframe tbody tr th:only-of-type {\n",
       "        vertical-align: middle;\n",
       "    }\n",
       "\n",
       "    .dataframe tbody tr th {\n",
       "        vertical-align: top;\n",
       "    }\n",
       "\n",
       "    .dataframe thead th {\n",
       "        text-align: right;\n",
       "    }\n",
       "</style>\n",
       "<table border=\"1\" class=\"dataframe\">\n",
       "  <thead>\n",
       "    <tr style=\"text-align: right;\">\n",
       "      <th></th>\n",
       "      <th></th>\n",
       "      <th>cumulative_quantity</th>\n",
       "      <th>cumulative_notional</th>\n",
       "    </tr>\n",
       "    <tr>\n",
       "      <th>timestamp</th>\n",
       "      <th>ticker</th>\n",
       "      <th></th>\n",
       "      <th></th>\n",
       "    </tr>\n",
       "  </thead>\n",
       "  <tbody>\n",
       "    <tr>\n",
       "      <th rowspan=\"2\" valign=\"top\">00:00</th>\n",
       "      <th>A</th>\n",
       "      <td>1</td>\n",
       "      <td>5.6</td>\n",
       "    </tr>\n",
       "    <tr>\n",
       "      <th>B</th>\n",
       "      <td>1</td>\n",
       "      <td>5.6</td>\n",
       "    </tr>\n",
       "    <tr>\n",
       "      <th rowspan=\"2\" valign=\"top\">00:02</th>\n",
       "      <th>A</th>\n",
       "      <td>2</td>\n",
       "      <td>11.2</td>\n",
       "    </tr>\n",
       "    <tr>\n",
       "      <th>B</th>\n",
       "      <td>2</td>\n",
       "      <td>11.2</td>\n",
       "    </tr>\n",
       "    <tr>\n",
       "      <th rowspan=\"2\" valign=\"top\">00:03</th>\n",
       "      <th>A</th>\n",
       "      <td>3</td>\n",
       "      <td>16.8</td>\n",
       "    </tr>\n",
       "    <tr>\n",
       "      <th>C</th>\n",
       "      <td>1</td>\n",
       "      <td>5.6</td>\n",
       "    </tr>\n",
       "    <tr>\n",
       "      <th>00:04</th>\n",
       "      <th>A</th>\n",
       "      <td>4</td>\n",
       "      <td>22.4</td>\n",
       "    </tr>\n",
       "    <tr>\n",
       "      <th rowspan=\"2\" valign=\"top\">00:05</th>\n",
       "      <th>A</th>\n",
       "      <td>5</td>\n",
       "      <td>28.0</td>\n",
       "    </tr>\n",
       "    <tr>\n",
       "      <th>B</th>\n",
       "      <td>3</td>\n",
       "      <td>16.8</td>\n",
       "    </tr>\n",
       "    <tr>\n",
       "      <th>00:06</th>\n",
       "      <th>A</th>\n",
       "      <td>6</td>\n",
       "      <td>33.6</td>\n",
       "    </tr>\n",
       "  </tbody>\n",
       "</table>\n",
       "</div>"
      ],
      "text/plain": [
       "                  cumulative_quantity  cumulative_notional\n",
       "timestamp ticker                                          \n",
       "00:00     A                         1                  5.6\n",
       "          B                         1                  5.6\n",
       "00:02     A                         2                 11.2\n",
       "          B                         2                 11.2\n",
       "00:03     A                         3                 16.8\n",
       "          C                         1                  5.6\n",
       "00:04     A                         4                 22.4\n",
       "00:05     A                         5                 28.0\n",
       "          B                         3                 16.8\n",
       "00:06     A                         6                 33.6"
      ]
     },
     "execution_count": 321,
     "metadata": {},
     "output_type": "execute_result"
    }
   ],
   "source": [
    "group = df.groupby(['timestamp','ticker'])\n",
    "df=group.agg({'cumulative_quantity':'sum','cumulative_notional':'sum'})\n",
    "df.reset_index()\n",
    "df\n",
    "# df.index"
   ]
  },
  {
   "cell_type": "code",
   "execution_count": 315,
   "id": "a1abdd1c",
   "metadata": {},
   "outputs": [
    {
     "data": {
      "text/plain": [
       "['00:00 A  1   5.6',\n",
       " '00:00 B  1   5.6',\n",
       " '00:02 A  2  11.2',\n",
       " '00:02 B  2  11.2',\n",
       " '00:03 A  3  16.8',\n",
       " '00:03 C  1   5.6',\n",
       " '00:04 A  4  22.4',\n",
       " '00:05 A  5  28.0',\n",
       " '00:05 B  3  16.8',\n",
       " '00:06 A  6  33.6']"
      ]
     },
     "execution_count": 315,
     "metadata": {},
     "output_type": "execute_result"
    }
   ],
   "source": [
    "# df = df['timestamp'].str.cat(df[['ticker', 'cumulative_quantity','cumulative_notional']], sep=',')\n",
    "#,index=False \n",
    "x = df.to_string(header=False, index_names=False).split('\\n')\n",
    "x"
   ]
  },
  {
   "cell_type": "code",
   "execution_count": 305,
   "id": "0bf83194",
   "metadata": {},
   "outputs": [
    {
     "data": {
      "text/plain": [
       "'00:00 A  1   5.6,      B  1   5.6,00:02 A  2  11.2,      B  2  11.2,00:03 A  3  16.8,      C  1   5.6,00:04 A  4  22.4,00:05 A  5  28.0,      B  3  16.8,00:06 A  6  33.6'"
      ]
     },
     "execution_count": 305,
     "metadata": {},
     "output_type": "execute_result"
    }
   ],
   "source": [
    "\",\".join(x)"
   ]
  },
  {
   "cell_type": "code",
   "execution_count": 257,
   "id": "b87bf8a3",
   "metadata": {},
   "outputs": [],
   "source": [
    "import pandas as pd\n",
    "def to_cumulative(stream: list):\n",
    "    df = pd.DataFrame(test_input, columns=None )\n",
    "    df = df.drop_duplicates()\n",
    "    df.sort_values(0, inplace=True)\n",
    "    df.reset_index(inplace=True)\n",
    "    df[0].str.strip()\n",
    "    df[['timestamp', 'ticker', 'cumulative_quantity','cumulative_notional']]=df[0].str.split(',', expand=True)\n",
    "    df.drop([0,'index'], inplace=True, axis=1)\n",
    "    df.columns = df.columns.str.strip()\n",
    "    df=df.astype({'cumulative_quantity': 'int64','cumulative_notional': 'float64'})\n",
    "    df[['cumulative_quantity','cumulative_notional']] = df.groupby(['ticker']).cumsum()\n",
    "    group = df.groupby(['timestamp','ticker'])\n",
    "    df=group.agg({'cumulative_quantity':'sum','cumulative_notional':'sum'})\n",
    "    df.reset_index()\n",
    "    x = df.to_string(header=False, index_names=False).split('\\n')\n",
    "    return \",\".join(x)"
   ]
  },
  {
   "cell_type": "code",
   "execution_count": 264,
   "id": "c8060999",
   "metadata": {},
   "outputs": [
    {
     "data": {
      "text/plain": [
       "'00:00 A  1   5.6,      B  1   5.6,00:02 A  2  11.2,00:05 A  3  16.8,      B  2  11.2,00:06 A  4  22.4'"
      ]
     },
     "execution_count": 264,
     "metadata": {},
     "output_type": "execute_result"
    }
   ],
   "source": [
    "to_cumulative(test_input)"
   ]
  },
  {
   "cell_type": "code",
   "execution_count": 286,
   "id": "057ff2d9",
   "metadata": {},
   "outputs": [
    {
     "data": {
      "text/plain": [
       "4.542753899999298"
      ]
     },
     "execution_count": 286,
     "metadata": {},
     "output_type": "execute_result"
    }
   ],
   "source": [
    "mysetup=\"import pandas\"\n",
    "timeit.timeit(setup = mysetup, stmt='to_cumulative(test_input)', globals=globals(), number = 1000)"
   ]
  },
  {
   "cell_type": "code",
   "execution_count": 278,
   "id": "7926e3cd",
   "metadata": {},
   "outputs": [
    {
     "data": {
      "text/plain": [
       "0.025164499998936662"
      ]
     },
     "execution_count": 278,
     "metadata": {},
     "output_type": "execute_result"
    }
   ],
   "source": []
  },
  {
   "cell_type": "code",
   "execution_count": null,
   "id": "6f0eb4b1",
   "metadata": {},
   "outputs": [],
   "source": []
  }
 ],
 "metadata": {
  "kernelspec": {
   "display_name": "Python 3.10.4 64-bit",
   "language": "python",
   "name": "python3"
  },
  "language_info": {
   "codemirror_mode": {
    "name": "ipython",
    "version": 3
   },
   "file_extension": ".py",
   "mimetype": "text/x-python",
   "name": "python",
   "nbconvert_exporter": "python",
   "pygments_lexer": "ipython3",
   "version": "3.10.4"
  },
  "vscode": {
   "interpreter": {
    "hash": "369f2c481f4da34e4445cda3fffd2e751bd1c4d706f27375911949ba6bb62e1c"
   }
  }
 },
 "nbformat": 4,
 "nbformat_minor": 5
}
